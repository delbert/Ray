{
 "cells": [
  {
   "cell_type": "code",
   "execution_count": 1,
   "metadata": {},
   "outputs": [
    {
     "name": "stdout",
     "output_type": "stream",
     "text": [
      "SDK version: 1.0.21\n"
     ]
    }
   ],
   "source": [
    "# Check core SDK version number\n",
    "import azureml.core\n",
    "\n",
    "print( \"SDK version:\" , azureml.core.VERSION )"
   ]
  },
  {
   "cell_type": "code",
   "execution_count": null,
   "metadata": {},
   "outputs": [],
   "source": [
    "from azureml.core import Workspace\n",
    "\n",
    "# Create the workspace using the specified parameters\n",
    "ws = Workspace.from_config()\n",
    "print( ws.name , ws.resource_group , ws.location , ws.subscription_id , sep = '\\n')"
   ]
  },
  {
   "cell_type": "code",
   "execution_count": 3,
   "metadata": {},
   "outputs": [
    {
     "name": "stdout",
     "output_type": "stream",
     "text": [
      "C:\\Users\\delbertm\\notebooks\\hack\n"
     ]
    }
   ],
   "source": [
    "import os\n",
    "from azureml.core import Experiment\n",
    "\n",
    "# choose a name for the run history container in the workspace\n",
    "experiment_name = \"hack\"\n",
    "\n",
    "exp = Experiment( ws , name=experiment_name )\n",
    "\n",
    "# project folder name - the folder that contains all training scripts\n",
    "project_folder = os.path.join( os.getcwd() , experiment_name )\n",
    "print( project_folder )"
   ]
  },
  {
   "cell_type": "code",
   "execution_count": 4,
   "metadata": {},
   "outputs": [
    {
     "name": "stdout",
     "output_type": "stream",
     "text": [
      "Found existing compute target\n",
      "{'currentNodeCount': 0, 'targetNodeCount': 0, 'nodeStateCounts': {'preparingNodeCount': 0, 'runningNodeCount': 0, 'idleNodeCount': 0, 'unusableNodeCount': 0, 'leavingNodeCount': 0, 'preemptedNodeCount': 0}, 'allocationState': 'Steady', 'allocationStateTransitionTime': '2019-04-01T22:27:52.572000+00:00', 'errors': None, 'creationTime': '2019-04-01T21:59:33.795858+00:00', 'modifiedTime': '2019-04-01T22:00:09.485643+00:00', 'provisioningState': 'Succeeded', 'provisioningStateTransitionTime': None, 'scaleSettings': {'minNodeCount': 0, 'maxNodeCount': 7, 'nodeIdleTimeBeforeScaleDown': 'PT120S'}, 'vmPriority': 'Dedicated', 'vmSize': 'STANDARD_D2_V2'}\n"
     ]
    }
   ],
   "source": [
    "from azureml.core.compute import AmlCompute\n",
    "from azureml.core.compute import ComputeTarget\n",
    "from azureml.core.compute_target import ComputeTargetException\n",
    "\n",
    "cluster_name = 'hackcluster'\n",
    "\n",
    "try:\n",
    "    compute_target = ComputeTarget( workspace=ws, name=cluster_name )\n",
    "    print( 'Found existing compute target' )\n",
    "except ComputeTargetException:\n",
    "    print( 'Creating a new compute target...' )\n",
    "    compute_config = AmlCompute.provisioning_configuration( vm_size = \"STANDARD_D2_V2\" ,\n",
    "                                                                min_nodes = 0 ,\n",
    "                                                                max_nodes = 7 )\n",
    "\n",
    "    # create the cluster\n",
    "    compute_target = ComputeTarget.create( ws , cluster_name, compute_config )\n",
    "\n",
    "    compute_target.wait_for_completion( show_output=True )\n",
    "\n",
    "print( compute_target.status.serialize() )"
   ]
  },
  {
   "cell_type": "code",
   "execution_count": 22,
   "metadata": {},
   "outputs": [],
   "source": [
    "from azureml.train.estimator import Estimator\n",
    "\n",
    "est = Estimator ( source_directory = project_folder ,\n",
    "                  compute_target = compute_target ,\n",
    "                  node_count = 3 ,\n",
    "                  distributed_backend = \"mpi\" ,\n",
    "                  entry_script = 'launch.py' ,\n",
    "                  pip_packages = [ \"ray==0.6.5\" , \"psutil\" , \"setproctitle\" ] )"
   ]
  },
  {
   "cell_type": "code",
   "execution_count": 31,
   "metadata": {},
   "outputs": [
    {
     "name": "stdout",
     "output_type": "stream",
     "text": [
      "Run(Experiment: hack,\n",
      "Id: hack_1554239111_1206a781,\n",
      "Type: azureml.scriptrun,\n",
      "Status: Queued)\n"
     ]
    }
   ],
   "source": [
    "run = exp.submit( est )\n",
    "print( run )"
   ]
  },
  {
   "cell_type": "code",
   "execution_count": 32,
   "metadata": {},
   "outputs": [
    {
     "data": {
      "application/vnd.jupyter.widget-view+json": {
       "model_id": "407b2259515b47fc8a82c1729ba0d960",
       "version_major": 2,
       "version_minor": 0
      },
      "text/plain": [
       "_UserRunWidget(widget_settings={'childWidgetDisplay': 'popup', 'send_telemetry': False, 'log_level': 'INFO', '…"
      ]
     },
     "metadata": {},
     "output_type": "display_data"
    }
   ],
   "source": [
    "from azureml.widgets import RunDetails\n",
    "\n",
    "RunDetails( run ).show()"
   ]
  },
  {
   "cell_type": "code",
   "execution_count": null,
   "metadata": {},
   "outputs": [],
   "source": [
    "#cancel the current run\n",
    "run.cancel()"
   ]
  }
 ],
 "metadata": {
  "kernelspec": {
   "display_name": "aml",
   "language": "python",
   "name": "aml"
  },
  "language_info": {
   "codemirror_mode": {
    "name": "ipython",
    "version": 3
   },
   "file_extension": ".py",
   "mimetype": "text/x-python",
   "name": "python",
   "nbconvert_exporter": "python",
   "pygments_lexer": "ipython3",
   "version": "3.6.8"
  }
 },
 "nbformat": 4,
 "nbformat_minor": 2
}
